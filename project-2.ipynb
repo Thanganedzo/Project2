{
 "cells": [
  {
   "cell_type": "code",
   "execution_count": 18,
   "metadata": {},
   "outputs": [
    {
     "name": "stdout",
     "output_type": "stream",
     "text": [
      "Enter five digits:123\n",
      "321\n"
     ]
    }
   ],
   "source": [
    "#asking a user to enter 5 digits\n",
    "number=input(\"Enter five digits:\")\n",
    "\n",
    "# using slicing method to reverse the number,by taking entire string without specifying start and end.\n",
    "rev_number=number[::-1]\n",
    "\n",
    "print(rev_number)"
   ]
  },
  {
   "cell_type": "code",
   "execution_count": 19,
   "metadata": {},
   "outputs": [
    {
     "name": "stdout",
     "output_type": "stream",
     "text": [
      "Sum of all digits of 321 is:  6\n"
     ]
    }
   ],
   "source": [
    "#creating a new variable for storing reversed number as an integer\n",
    "x=int(rev_number)\n",
    "#creating a variable that will hold the fina answer, but initially is zero\n",
    "result = 0\n",
    "n=x\n",
    "# while loop to iterate through all the digits of x-value until its x=0\n",
    "while x> 0:\n",
    "    #use modulus operation to separate the values\n",
    "    remeinder = x % 10\n",
    "    #adding a remeinder to my reseults variable and also update intial value\n",
    "    result = result + remeinder\n",
    "    #trancate devision\n",
    "    x= int(x//10)\n",
    "\n",
    "# printing the results\n",
    "print(\"Sum of all digits of\",n, \"is: \", result)"
   ]
  },
  {
   "cell_type": "code",
   "execution_count": 21,
   "metadata": {},
   "outputs": [
    {
     "name": "stdout",
     "output_type": "stream",
     "text": [
      "12\n",
      "1\n",
      "0\n"
     ]
    }
   ],
   "source": [
    "s=int(number)\n",
    "#creating a variable that will hold the fina answer, but initially is zero\n",
    "temp=0\n",
    "result1 = 0\n",
    "n=s\n",
    "# while loop to iterate through all the digits of x-value until its x=0\n",
    "while s> 0:\n",
    "    #use modulus operation to separate the values\n",
    "    remeinder = s % 10\n",
    "    temp=remeinder+1\n",
    "    #adding a remeinder to my reseults variable and also update intial value\n",
    "    \n",
    "    s= s//10\n",
    "    \n",
    "# printing the results\n",
    "    print(s)"
   ]
  },
  {
   "cell_type": "code",
   "execution_count": 14,
   "metadata": {},
   "outputs": [
    {
     "name": "stdout",
     "output_type": "stream",
     "text": [
      "Enter five digits:1234567\n",
      "7\n",
      "6\n",
      "5\n",
      "4\n",
      "3\n",
      "2\n",
      "1\n"
     ]
    }
   ],
   "source": [
    "number=input(\"Enter five digits:\")\n",
    "\n",
    "for i in range(len(number), 0, -1):\n",
    "    \n",
    "    print(number[i-1])\n"
   ]
  },
  {
   "cell_type": "code",
   "execution_count": null,
   "metadata": {},
   "outputs": [],
   "source": []
  }
 ],
 "metadata": {
  "kernelspec": {
   "display_name": "Python 3",
   "language": "python",
   "name": "python3"
  },
  "language_info": {
   "codemirror_mode": {
    "name": "ipython",
    "version": 3
   },
   "file_extension": ".py",
   "mimetype": "text/x-python",
   "name": "python",
   "nbconvert_exporter": "python",
   "pygments_lexer": "ipython3",
   "version": "3.7.4"
  }
 },
 "nbformat": 4,
 "nbformat_minor": 2
}
